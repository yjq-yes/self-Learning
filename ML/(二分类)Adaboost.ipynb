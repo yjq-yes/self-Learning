{
 "cells": [
  {
   "cell_type": "code",
   "execution_count": 1,
   "id": "937e919b",
   "metadata": {},
   "outputs": [],
   "source": [
    "import numpy as np\n",
    "import pandas as pd\n",
    "from sklearn.model_selection import train_test_split\n",
    "from sklearn.datasets import load_iris\n",
    "from sklearn.tree import DecisionTreeClassifier # 我们把max_depth设为1就当作我们的一个简单的分类器Gm(x)\n",
    "import matplotlib.pyplot as plt\n",
    "%matplotlib inline"
   ]
  },
  {
   "cell_type": "markdown",
   "id": "04a8728f",
   "metadata": {},
   "source": [
    "# Boost\n",
    "\n",
    "“装袋”（bagging）和“提升”（boost）是构建组合模型的两种最主要的方法，所谓的组合模型是由多个基本模型构成的模型，组合模型的预测效果往往比任意一个基本模型的效果都要好。\n",
    "\n",
    "- 装袋：每个基本模型由从总体样本中随机抽样得到的不同数据集进行训练得到，通过重抽样得到不同训练数据集的过程称为装袋。\n",
    "\n",
    "- 提升：每个基本模型训练时的数据集采用不同权重，针对上一个基本模型分类错误的样本增加权重，使得新的模型重点关注误分类样本\n",
    "\n",
    "### AdaBoost\n",
    "\n",
    "AdaBoost是AdaptiveBoost的缩写，表明该算法是具有适应性的提升算法。\n",
    "\n",
    "算法的步骤如下：\n",
    "\n",
    "1）给每个训练样本（$x_{1},x_{2},….,x_{N}$）分配权重，初始权重$w_{1}$均为1/N。\n",
    "\n",
    "2）针对带有权值的样本进行训练，得到模型$G_m$（初始模型为G1）。\n",
    "\n",
    "3）计算模型$G_m$的误分率$e_m=\\sum_{i=1}^Nw_iI(y_i\\not= G_m(x_i))$\n",
    "\n",
    "4）计算模型$G_m$的系数$\\alpha_m=0.5\\log[(1-e_m)/e_m]$\n",
    "\n",
    "5）根据误分率e和当前权重向量$w_m$更新权重向量$w_{m+1}$。\n",
    "\n",
    "6）计算组合模型$f(x)=\\sum_{m=1}^M\\alpha_mG_m(x_i)$的误分率。\n",
    "\n",
    "7）当组合模型的误分率或迭代次数低于一定阈值，停止迭代；否则，回到步骤2）"
   ]
  },
  {
   "cell_type": "code",
   "execution_count": 2,
   "id": "222b7adb",
   "metadata": {
    "scrolled": true
   },
   "outputs": [
    {
     "data": {
      "text/plain": [
       "{'data': array([[5.1, 3.5, 1.4, 0.2],\n",
       "        [4.9, 3. , 1.4, 0.2],\n",
       "        [4.7, 3.2, 1.3, 0.2],\n",
       "        [4.6, 3.1, 1.5, 0.2],\n",
       "        [5. , 3.6, 1.4, 0.2],\n",
       "        [5.4, 3.9, 1.7, 0.4],\n",
       "        [4.6, 3.4, 1.4, 0.3],\n",
       "        [5. , 3.4, 1.5, 0.2],\n",
       "        [4.4, 2.9, 1.4, 0.2],\n",
       "        [4.9, 3.1, 1.5, 0.1],\n",
       "        [5.4, 3.7, 1.5, 0.2],\n",
       "        [4.8, 3.4, 1.6, 0.2],\n",
       "        [4.8, 3. , 1.4, 0.1],\n",
       "        [4.3, 3. , 1.1, 0.1],\n",
       "        [5.8, 4. , 1.2, 0.2],\n",
       "        [5.7, 4.4, 1.5, 0.4],\n",
       "        [5.4, 3.9, 1.3, 0.4],\n",
       "        [5.1, 3.5, 1.4, 0.3],\n",
       "        [5.7, 3.8, 1.7, 0.3],\n",
       "        [5.1, 3.8, 1.5, 0.3],\n",
       "        [5.4, 3.4, 1.7, 0.2],\n",
       "        [5.1, 3.7, 1.5, 0.4],\n",
       "        [4.6, 3.6, 1. , 0.2],\n",
       "        [5.1, 3.3, 1.7, 0.5],\n",
       "        [4.8, 3.4, 1.9, 0.2],\n",
       "        [5. , 3. , 1.6, 0.2],\n",
       "        [5. , 3.4, 1.6, 0.4],\n",
       "        [5.2, 3.5, 1.5, 0.2],\n",
       "        [5.2, 3.4, 1.4, 0.2],\n",
       "        [4.7, 3.2, 1.6, 0.2],\n",
       "        [4.8, 3.1, 1.6, 0.2],\n",
       "        [5.4, 3.4, 1.5, 0.4],\n",
       "        [5.2, 4.1, 1.5, 0.1],\n",
       "        [5.5, 4.2, 1.4, 0.2],\n",
       "        [4.9, 3.1, 1.5, 0.2],\n",
       "        [5. , 3.2, 1.2, 0.2],\n",
       "        [5.5, 3.5, 1.3, 0.2],\n",
       "        [4.9, 3.6, 1.4, 0.1],\n",
       "        [4.4, 3. , 1.3, 0.2],\n",
       "        [5.1, 3.4, 1.5, 0.2],\n",
       "        [5. , 3.5, 1.3, 0.3],\n",
       "        [4.5, 2.3, 1.3, 0.3],\n",
       "        [4.4, 3.2, 1.3, 0.2],\n",
       "        [5. , 3.5, 1.6, 0.6],\n",
       "        [5.1, 3.8, 1.9, 0.4],\n",
       "        [4.8, 3. , 1.4, 0.3],\n",
       "        [5.1, 3.8, 1.6, 0.2],\n",
       "        [4.6, 3.2, 1.4, 0.2],\n",
       "        [5.3, 3.7, 1.5, 0.2],\n",
       "        [5. , 3.3, 1.4, 0.2],\n",
       "        [7. , 3.2, 4.7, 1.4],\n",
       "        [6.4, 3.2, 4.5, 1.5],\n",
       "        [6.9, 3.1, 4.9, 1.5],\n",
       "        [5.5, 2.3, 4. , 1.3],\n",
       "        [6.5, 2.8, 4.6, 1.5],\n",
       "        [5.7, 2.8, 4.5, 1.3],\n",
       "        [6.3, 3.3, 4.7, 1.6],\n",
       "        [4.9, 2.4, 3.3, 1. ],\n",
       "        [6.6, 2.9, 4.6, 1.3],\n",
       "        [5.2, 2.7, 3.9, 1.4],\n",
       "        [5. , 2. , 3.5, 1. ],\n",
       "        [5.9, 3. , 4.2, 1.5],\n",
       "        [6. , 2.2, 4. , 1. ],\n",
       "        [6.1, 2.9, 4.7, 1.4],\n",
       "        [5.6, 2.9, 3.6, 1.3],\n",
       "        [6.7, 3.1, 4.4, 1.4],\n",
       "        [5.6, 3. , 4.5, 1.5],\n",
       "        [5.8, 2.7, 4.1, 1. ],\n",
       "        [6.2, 2.2, 4.5, 1.5],\n",
       "        [5.6, 2.5, 3.9, 1.1],\n",
       "        [5.9, 3.2, 4.8, 1.8],\n",
       "        [6.1, 2.8, 4. , 1.3],\n",
       "        [6.3, 2.5, 4.9, 1.5],\n",
       "        [6.1, 2.8, 4.7, 1.2],\n",
       "        [6.4, 2.9, 4.3, 1.3],\n",
       "        [6.6, 3. , 4.4, 1.4],\n",
       "        [6.8, 2.8, 4.8, 1.4],\n",
       "        [6.7, 3. , 5. , 1.7],\n",
       "        [6. , 2.9, 4.5, 1.5],\n",
       "        [5.7, 2.6, 3.5, 1. ],\n",
       "        [5.5, 2.4, 3.8, 1.1],\n",
       "        [5.5, 2.4, 3.7, 1. ],\n",
       "        [5.8, 2.7, 3.9, 1.2],\n",
       "        [6. , 2.7, 5.1, 1.6],\n",
       "        [5.4, 3. , 4.5, 1.5],\n",
       "        [6. , 3.4, 4.5, 1.6],\n",
       "        [6.7, 3.1, 4.7, 1.5],\n",
       "        [6.3, 2.3, 4.4, 1.3],\n",
       "        [5.6, 3. , 4.1, 1.3],\n",
       "        [5.5, 2.5, 4. , 1.3],\n",
       "        [5.5, 2.6, 4.4, 1.2],\n",
       "        [6.1, 3. , 4.6, 1.4],\n",
       "        [5.8, 2.6, 4. , 1.2],\n",
       "        [5. , 2.3, 3.3, 1. ],\n",
       "        [5.6, 2.7, 4.2, 1.3],\n",
       "        [5.7, 3. , 4.2, 1.2],\n",
       "        [5.7, 2.9, 4.2, 1.3],\n",
       "        [6.2, 2.9, 4.3, 1.3],\n",
       "        [5.1, 2.5, 3. , 1.1],\n",
       "        [5.7, 2.8, 4.1, 1.3],\n",
       "        [6.3, 3.3, 6. , 2.5],\n",
       "        [5.8, 2.7, 5.1, 1.9],\n",
       "        [7.1, 3. , 5.9, 2.1],\n",
       "        [6.3, 2.9, 5.6, 1.8],\n",
       "        [6.5, 3. , 5.8, 2.2],\n",
       "        [7.6, 3. , 6.6, 2.1],\n",
       "        [4.9, 2.5, 4.5, 1.7],\n",
       "        [7.3, 2.9, 6.3, 1.8],\n",
       "        [6.7, 2.5, 5.8, 1.8],\n",
       "        [7.2, 3.6, 6.1, 2.5],\n",
       "        [6.5, 3.2, 5.1, 2. ],\n",
       "        [6.4, 2.7, 5.3, 1.9],\n",
       "        [6.8, 3. , 5.5, 2.1],\n",
       "        [5.7, 2.5, 5. , 2. ],\n",
       "        [5.8, 2.8, 5.1, 2.4],\n",
       "        [6.4, 3.2, 5.3, 2.3],\n",
       "        [6.5, 3. , 5.5, 1.8],\n",
       "        [7.7, 3.8, 6.7, 2.2],\n",
       "        [7.7, 2.6, 6.9, 2.3],\n",
       "        [6. , 2.2, 5. , 1.5],\n",
       "        [6.9, 3.2, 5.7, 2.3],\n",
       "        [5.6, 2.8, 4.9, 2. ],\n",
       "        [7.7, 2.8, 6.7, 2. ],\n",
       "        [6.3, 2.7, 4.9, 1.8],\n",
       "        [6.7, 3.3, 5.7, 2.1],\n",
       "        [7.2, 3.2, 6. , 1.8],\n",
       "        [6.2, 2.8, 4.8, 1.8],\n",
       "        [6.1, 3. , 4.9, 1.8],\n",
       "        [6.4, 2.8, 5.6, 2.1],\n",
       "        [7.2, 3. , 5.8, 1.6],\n",
       "        [7.4, 2.8, 6.1, 1.9],\n",
       "        [7.9, 3.8, 6.4, 2. ],\n",
       "        [6.4, 2.8, 5.6, 2.2],\n",
       "        [6.3, 2.8, 5.1, 1.5],\n",
       "        [6.1, 2.6, 5.6, 1.4],\n",
       "        [7.7, 3. , 6.1, 2.3],\n",
       "        [6.3, 3.4, 5.6, 2.4],\n",
       "        [6.4, 3.1, 5.5, 1.8],\n",
       "        [6. , 3. , 4.8, 1.8],\n",
       "        [6.9, 3.1, 5.4, 2.1],\n",
       "        [6.7, 3.1, 5.6, 2.4],\n",
       "        [6.9, 3.1, 5.1, 2.3],\n",
       "        [5.8, 2.7, 5.1, 1.9],\n",
       "        [6.8, 3.2, 5.9, 2.3],\n",
       "        [6.7, 3.3, 5.7, 2.5],\n",
       "        [6.7, 3. , 5.2, 2.3],\n",
       "        [6.3, 2.5, 5. , 1.9],\n",
       "        [6.5, 3. , 5.2, 2. ],\n",
       "        [6.2, 3.4, 5.4, 2.3],\n",
       "        [5.9, 3. , 5.1, 1.8]]),\n",
       " 'target': array([0, 0, 0, 0, 0, 0, 0, 0, 0, 0, 0, 0, 0, 0, 0, 0, 0, 0, 0, 0, 0, 0,\n",
       "        0, 0, 0, 0, 0, 0, 0, 0, 0, 0, 0, 0, 0, 0, 0, 0, 0, 0, 0, 0, 0, 0,\n",
       "        0, 0, 0, 0, 0, 0, 1, 1, 1, 1, 1, 1, 1, 1, 1, 1, 1, 1, 1, 1, 1, 1,\n",
       "        1, 1, 1, 1, 1, 1, 1, 1, 1, 1, 1, 1, 1, 1, 1, 1, 1, 1, 1, 1, 1, 1,\n",
       "        1, 1, 1, 1, 1, 1, 1, 1, 1, 1, 1, 1, 2, 2, 2, 2, 2, 2, 2, 2, 2, 2,\n",
       "        2, 2, 2, 2, 2, 2, 2, 2, 2, 2, 2, 2, 2, 2, 2, 2, 2, 2, 2, 2, 2, 2,\n",
       "        2, 2, 2, 2, 2, 2, 2, 2, 2, 2, 2, 2, 2, 2, 2, 2, 2, 2]),\n",
       " 'frame': None,\n",
       " 'target_names': array(['setosa', 'versicolor', 'virginica'], dtype='<U10'),\n",
       " 'DESCR': '.. _iris_dataset:\\n\\nIris plants dataset\\n--------------------\\n\\n**Data Set Characteristics:**\\n\\n    :Number of Instances: 150 (50 in each of three classes)\\n    :Number of Attributes: 4 numeric, predictive attributes and the class\\n    :Attribute Information:\\n        - sepal length in cm\\n        - sepal width in cm\\n        - petal length in cm\\n        - petal width in cm\\n        - class:\\n                - Iris-Setosa\\n                - Iris-Versicolour\\n                - Iris-Virginica\\n                \\n    :Summary Statistics:\\n\\n    ============== ==== ==== ======= ===== ====================\\n                    Min  Max   Mean    SD   Class Correlation\\n    ============== ==== ==== ======= ===== ====================\\n    sepal length:   4.3  7.9   5.84   0.83    0.7826\\n    sepal width:    2.0  4.4   3.05   0.43   -0.4194\\n    petal length:   1.0  6.9   3.76   1.76    0.9490  (high!)\\n    petal width:    0.1  2.5   1.20   0.76    0.9565  (high!)\\n    ============== ==== ==== ======= ===== ====================\\n\\n    :Missing Attribute Values: None\\n    :Class Distribution: 33.3% for each of 3 classes.\\n    :Creator: R.A. Fisher\\n    :Donor: Michael Marshall (MARSHALL%PLU@io.arc.nasa.gov)\\n    :Date: July, 1988\\n\\nThe famous Iris database, first used by Sir R.A. Fisher. The dataset is taken\\nfrom Fisher\\'s paper. Note that it\\'s the same as in R, but not as in the UCI\\nMachine Learning Repository, which has two wrong data points.\\n\\nThis is perhaps the best known database to be found in the\\npattern recognition literature.  Fisher\\'s paper is a classic in the field and\\nis referenced frequently to this day.  (See Duda & Hart, for example.)  The\\ndata set contains 3 classes of 50 instances each, where each class refers to a\\ntype of iris plant.  One class is linearly separable from the other 2; the\\nlatter are NOT linearly separable from each other.\\n\\n.. topic:: References\\n\\n   - Fisher, R.A. \"The use of multiple measurements in taxonomic problems\"\\n     Annual Eugenics, 7, Part II, 179-188 (1936); also in \"Contributions to\\n     Mathematical Statistics\" (John Wiley, NY, 1950).\\n   - Duda, R.O., & Hart, P.E. (1973) Pattern Classification and Scene Analysis.\\n     (Q327.D83) John Wiley & Sons.  ISBN 0-471-22361-1.  See page 218.\\n   - Dasarathy, B.V. (1980) \"Nosing Around the Neighborhood: A New System\\n     Structure and Classification Rule for Recognition in Partially Exposed\\n     Environments\".  IEEE Transactions on Pattern Analysis and Machine\\n     Intelligence, Vol. PAMI-2, No. 1, 67-71.\\n   - Gates, G.W. (1972) \"The Reduced Nearest Neighbor Rule\".  IEEE Transactions\\n     on Information Theory, May 1972, 431-433.\\n   - See also: 1988 MLC Proceedings, 54-64.  Cheeseman et al\"s AUTOCLASS II\\n     conceptual clustering system finds 3 classes in the data.\\n   - Many, many more ...',\n",
       " 'feature_names': ['sepal length (cm)',\n",
       "  'sepal width (cm)',\n",
       "  'petal length (cm)',\n",
       "  'petal width (cm)'],\n",
       " 'filename': 'iris.csv',\n",
       " 'data_module': 'sklearn.datasets.data'}"
      ]
     },
     "execution_count": 2,
     "metadata": {},
     "output_type": "execute_result"
    }
   ],
   "source": [
    "load_iris()"
   ]
  },
  {
   "cell_type": "code",
   "execution_count": 3,
   "id": "46499067",
   "metadata": {
    "scrolled": true
   },
   "outputs": [
    {
     "data": {
      "text/plain": [
       "array([[5.1, 3.5, 0. ],\n",
       "       [4.9, 3. , 0. ],\n",
       "       [4.7, 3.2, 0. ],\n",
       "       [4.6, 3.1, 0. ],\n",
       "       [5. , 3.6, 0. ],\n",
       "       [5.4, 3.9, 0. ],\n",
       "       [4.6, 3.4, 0. ],\n",
       "       [5. , 3.4, 0. ],\n",
       "       [4.4, 2.9, 0. ],\n",
       "       [4.9, 3.1, 0. ],\n",
       "       [5.4, 3.7, 0. ],\n",
       "       [4.8, 3.4, 0. ],\n",
       "       [4.8, 3. , 0. ],\n",
       "       [4.3, 3. , 0. ],\n",
       "       [5.8, 4. , 0. ],\n",
       "       [5.7, 4.4, 0. ],\n",
       "       [5.4, 3.9, 0. ],\n",
       "       [5.1, 3.5, 0. ],\n",
       "       [5.7, 3.8, 0. ],\n",
       "       [5.1, 3.8, 0. ],\n",
       "       [5.4, 3.4, 0. ],\n",
       "       [5.1, 3.7, 0. ],\n",
       "       [4.6, 3.6, 0. ],\n",
       "       [5.1, 3.3, 0. ],\n",
       "       [4.8, 3.4, 0. ],\n",
       "       [5. , 3. , 0. ],\n",
       "       [5. , 3.4, 0. ],\n",
       "       [5.2, 3.5, 0. ],\n",
       "       [5.2, 3.4, 0. ],\n",
       "       [4.7, 3.2, 0. ],\n",
       "       [4.8, 3.1, 0. ],\n",
       "       [5.4, 3.4, 0. ],\n",
       "       [5.2, 4.1, 0. ],\n",
       "       [5.5, 4.2, 0. ],\n",
       "       [4.9, 3.1, 0. ],\n",
       "       [5. , 3.2, 0. ],\n",
       "       [5.5, 3.5, 0. ],\n",
       "       [4.9, 3.6, 0. ],\n",
       "       [4.4, 3. , 0. ],\n",
       "       [5.1, 3.4, 0. ],\n",
       "       [5. , 3.5, 0. ],\n",
       "       [4.5, 2.3, 0. ],\n",
       "       [4.4, 3.2, 0. ],\n",
       "       [5. , 3.5, 0. ],\n",
       "       [5.1, 3.8, 0. ],\n",
       "       [4.8, 3. , 0. ],\n",
       "       [5.1, 3.8, 0. ],\n",
       "       [4.6, 3.2, 0. ],\n",
       "       [5.3, 3.7, 0. ],\n",
       "       [5. , 3.3, 0. ],\n",
       "       [7. , 3.2, 1. ],\n",
       "       [6.4, 3.2, 1. ],\n",
       "       [6.9, 3.1, 1. ],\n",
       "       [5.5, 2.3, 1. ],\n",
       "       [6.5, 2.8, 1. ],\n",
       "       [5.7, 2.8, 1. ],\n",
       "       [6.3, 3.3, 1. ],\n",
       "       [4.9, 2.4, 1. ],\n",
       "       [6.6, 2.9, 1. ],\n",
       "       [5.2, 2.7, 1. ],\n",
       "       [5. , 2. , 1. ],\n",
       "       [5.9, 3. , 1. ],\n",
       "       [6. , 2.2, 1. ],\n",
       "       [6.1, 2.9, 1. ],\n",
       "       [5.6, 2.9, 1. ],\n",
       "       [6.7, 3.1, 1. ],\n",
       "       [5.6, 3. , 1. ],\n",
       "       [5.8, 2.7, 1. ],\n",
       "       [6.2, 2.2, 1. ],\n",
       "       [5.6, 2.5, 1. ],\n",
       "       [5.9, 3.2, 1. ],\n",
       "       [6.1, 2.8, 1. ],\n",
       "       [6.3, 2.5, 1. ],\n",
       "       [6.1, 2.8, 1. ],\n",
       "       [6.4, 2.9, 1. ],\n",
       "       [6.6, 3. , 1. ],\n",
       "       [6.8, 2.8, 1. ],\n",
       "       [6.7, 3. , 1. ],\n",
       "       [6. , 2.9, 1. ],\n",
       "       [5.7, 2.6, 1. ],\n",
       "       [5.5, 2.4, 1. ],\n",
       "       [5.5, 2.4, 1. ],\n",
       "       [5.8, 2.7, 1. ],\n",
       "       [6. , 2.7, 1. ],\n",
       "       [5.4, 3. , 1. ],\n",
       "       [6. , 3.4, 1. ],\n",
       "       [6.7, 3.1, 1. ],\n",
       "       [6.3, 2.3, 1. ],\n",
       "       [5.6, 3. , 1. ],\n",
       "       [5.5, 2.5, 1. ],\n",
       "       [5.5, 2.6, 1. ],\n",
       "       [6.1, 3. , 1. ],\n",
       "       [5.8, 2.6, 1. ],\n",
       "       [5. , 2.3, 1. ],\n",
       "       [5.6, 2.7, 1. ],\n",
       "       [5.7, 3. , 1. ],\n",
       "       [5.7, 2.9, 1. ],\n",
       "       [6.2, 2.9, 1. ],\n",
       "       [5.1, 2.5, 1. ],\n",
       "       [5.7, 2.8, 1. ]])"
      ]
     },
     "execution_count": 3,
     "metadata": {},
     "output_type": "execute_result"
    }
   ],
   "source": [
    "# 下面就是：首先：我们要创建我们的数据：\n",
    "# def create_data():\n",
    "iris = load_iris()\n",
    "data = pd.DataFrame(data= iris.data, columns= iris.feature_names)\n",
    "data['labels'] = iris.target\n",
    "data.columns = ['sepal length', 'sepal width', 'petal length', 'petal width',\"target_name\"]\n",
    "# 下面就是我们只留两个特征！！！\n",
    "data = np.array(data.iloc[:100, [0,1,-1]])\n",
    "\n",
    "# 下面就是建构我们的3类变成两类：\n",
    "for i in range(len(data)):\n",
    "    if data[i,-1] == 0:\n",
    "        data[i,-1]== -1     \n",
    "data"
   ]
  },
  {
   "cell_type": "code",
   "execution_count": null,
   "id": "876d9369",
   "metadata": {},
   "outputs": [],
   "source": []
  },
  {
   "cell_type": "code",
   "execution_count": 4,
   "id": "e57d3aed",
   "metadata": {
    "scrolled": true
   },
   "outputs": [
    {
     "data": {
      "text/plain": [
       "array([0., 0., 0., 0., 0., 0., 0., 0., 0., 0., 0., 0., 0., 0., 0., 0., 0.,\n",
       "       0., 0., 0., 0., 0., 0., 0., 0., 0., 0., 0., 0., 0., 0., 0., 0., 0.,\n",
       "       0., 0., 0., 0., 0., 0., 0., 0., 0., 0., 0., 0., 0., 0., 0., 0., 1.,\n",
       "       1., 1., 1., 1., 1., 1., 1., 1., 1., 1., 1., 1., 1., 1., 1., 1., 1.,\n",
       "       1., 1., 1., 1., 1., 1., 1., 1., 1., 1., 1., 1., 1., 1., 1., 1., 1.,\n",
       "       1., 1., 1., 1., 1., 1., 1., 1., 1., 1., 1., 1., 1., 1., 1.])"
      ]
     },
     "execution_count": 4,
     "metadata": {},
     "output_type": "execute_result"
    }
   ],
   "source": [
    "# 下面就是划分我们的x：\n",
    "x = data[:,:2]\n",
    "# 左闭右开！！！\n",
    "y = data[:,-1]\n",
    "y"
   ]
  },
  {
   "cell_type": "code",
   "execution_count": 5,
   "id": "ef842962",
   "metadata": {},
   "outputs": [],
   "source": [
    "# 下面就是将我们的x和y分成训练集和测试集：\n",
    "x_train, x_test, y_train, y_test = train_test_split(x, y, test_size= 0.2)"
   ]
  },
  {
   "cell_type": "code",
   "execution_count": 6,
   "id": "33ea01bd",
   "metadata": {
    "scrolled": true
   },
   "outputs": [
    {
     "data": {
      "text/plain": [
       "<matplotlib.legend.Legend at 0x14d9ffb1090>"
      ]
     },
     "execution_count": 6,
     "metadata": {},
     "output_type": "execute_result"
    },
    {
     "data": {
      "image/png": "[encoded data removed]",
      "text/plain": [
       "<Figure size 640x480 with 1 Axes>"
      ]
     },
     "metadata": {},
     "output_type": "display_data"
    }
   ],
   "source": [
    "# 下面就是我们把我们的数据画出来看一下：\n",
    "plt.scatter(x[y == 1][:,0], x[y==1][:,1],c = 'blue',label = '0')\n",
    "plt.scatter(x[y==0][:,0],x[y==0][:,1], c= 'red', label ='1')\n",
    "plt.legend()"
   ]
  },
  {
   "cell_type": "code",
   "execution_count": 7,
   "id": "3341e9bc",
   "metadata": {
    "scrolled": true
   },
   "outputs": [
    {
     "data": {
      "text/plain": [
       "0.9"
      ]
     },
     "execution_count": 7,
     "metadata": {},
     "output_type": "execute_result"
    }
   ],
   "source": [
    "# 我们设置我们的简单的分类器：\n",
    "# 首先是实例化！！！\n",
    "\n",
    "weak_cla = DecisionTreeClassifier(max_depth =1, criterion= \"entropy\")\n",
    "weak_cla.fit(x_train, y_train)\n",
    "score = weak_cla.score(x_test,y_test)\n",
    "score"
   ]
  },
  {
   "cell_type": "code",
   "execution_count": 8,
   "id": "e14ca352",
   "metadata": {},
   "outputs": [
    {
     "data": {
      "image/svg+xml": [
       "<?xml version=\"1.0\" encoding=\"UTF-8\" standalone=\"no\"?>\n",
       "<!DOCTYPE svg PUBLIC \"-//W3C//DTD SVG 1.1//EN\"\n",
       " \"http://www.w3.org/Graphics/SVG/1.1/DTD/svg11.dtd\">\n",
       "<!-- Generated by graphviz version 10.0.1 (20240210.2158)\n",
       " -->\n",
       "<!-- Title: Tree Pages: 1 -->\n",
       "<svg width=\"258pt\" height=\"176pt\"\n",
       " viewBox=\"0.00 0.00 257.75 175.50\" xmlns=\"http://www.w3.org/2000/svg\" xmlns:xlink=\"http://www.w3.org/1999/xlink\">\n",
       "<g id=\"graph0\" class=\"graph\" transform=\"scale(1 1) rotate(0) translate(4 171.5)\">\n",
       "<title>Tree</title>\n",
       "<polygon fill=\"white\" stroke=\"none\" points=\"-4,4 -4,-171.5 253.75,-171.5 253.75,4 -4,4\"/>\n",
       "<!-- 0 -->\n",
       "<g id=\"node1\" class=\"node\">\n",
       "<title>0</title>\n",
       "<polygon fill=\"none\" stroke=\"black\" points=\"182.75,-167.5 67,-167.5 67,-93.5 182.75,-93.5 182.75,-167.5\"/>\n",
       "<text text-anchor=\"middle\" x=\"124.88\" y=\"-150.2\" font-family=\"Helvetica,sans-Serif\" font-size=\"14.00\">x[0] &lt;= 5.45</text>\n",
       "<text text-anchor=\"middle\" x=\"124.88\" y=\"-133.7\" font-family=\"Helvetica,sans-Serif\" font-size=\"14.00\">entropy = 0.996</text>\n",
       "<text text-anchor=\"middle\" x=\"124.88\" y=\"-117.2\" font-family=\"Helvetica,sans-Serif\" font-size=\"14.00\">samples = 80</text>\n",
       "<text text-anchor=\"middle\" x=\"124.88\" y=\"-100.7\" font-family=\"Helvetica,sans-Serif\" font-size=\"14.00\">value = [37, 43]</text>\n",
       "</g>\n",
       "<!-- 1 -->\n",
       "<g id=\"node2\" class=\"node\">\n",
       "<title>1</title>\n",
       "<polygon fill=\"none\" stroke=\"black\" points=\"115.75,-57.5 0,-57.5 0,0 115.75,0 115.75,-57.5\"/>\n",
       "<text text-anchor=\"middle\" x=\"57.88\" y=\"-40.2\" font-family=\"Helvetica,sans-Serif\" font-size=\"14.00\">entropy = 0.503</text>\n",
       "<text text-anchor=\"middle\" x=\"57.88\" y=\"-23.7\" font-family=\"Helvetica,sans-Serif\" font-size=\"14.00\">samples = 36</text>\n",
       "<text text-anchor=\"middle\" x=\"57.88\" y=\"-7.2\" font-family=\"Helvetica,sans-Serif\" font-size=\"14.00\">value = [32, 4]</text>\n",
       "</g>\n",
       "<!-- 0&#45;&gt;1 -->\n",
       "<g id=\"edge1\" class=\"edge\">\n",
       "<title>0&#45;&gt;1</title>\n",
       "<path fill=\"none\" stroke=\"black\" d=\"M100.5,-93.21C94.79,-84.71 88.7,-75.64 82.96,-67.09\"/>\n",
       "<polygon fill=\"black\" stroke=\"black\" points=\"85.99,-65.33 77.51,-58.98 80.18,-69.24 85.99,-65.33\"/>\n",
       "<text text-anchor=\"middle\" x=\"71.85\" y=\"-77.21\" font-family=\"Helvetica,sans-Serif\" font-size=\"14.00\">True</text>\n",
       "</g>\n",
       "<!-- 2 -->\n",
       "<g id=\"node3\" class=\"node\">\n",
       "<title>2</title>\n",
       "<polygon fill=\"none\" stroke=\"black\" points=\"249.75,-57.5 134,-57.5 134,0 249.75,0 249.75,-57.5\"/>\n",
       "<text text-anchor=\"middle\" x=\"191.88\" y=\"-40.2\" font-family=\"Helvetica,sans-Serif\" font-size=\"14.00\">entropy = 0.511</text>\n",
       "<text text-anchor=\"middle\" x=\"191.88\" y=\"-23.7\" font-family=\"Helvetica,sans-Serif\" font-size=\"14.00\">samples = 44</text>\n",
       "<text text-anchor=\"middle\" x=\"191.88\" y=\"-7.2\" font-family=\"Helvetica,sans-Serif\" font-size=\"14.00\">value = [5, 39]</text>\n",
       "</g>\n",
       "<!-- 0&#45;&gt;2 -->\n",
       "<g id=\"edge2\" class=\"edge\">\n",
       "<title>0&#45;&gt;2</title>\n",
       "<path fill=\"none\" stroke=\"black\" d=\"M149.25,-93.21C154.96,-84.71 161.05,-75.64 166.79,-67.09\"/>\n",
       "<polygon fill=\"black\" stroke=\"black\" points=\"169.57,-69.24 172.24,-58.98 163.76,-65.33 169.57,-69.24\"/>\n",
       "<text text-anchor=\"middle\" x=\"177.9\" y=\"-77.21\" font-family=\"Helvetica,sans-Serif\" font-size=\"14.00\">False</text>\n",
       "</g>\n",
       "</g>\n",
       "</svg>\n"
      ],
      "text/plain": [
       "<graphviz.sources.Source at 0x14d9fff8510>"
      ]
     },
     "execution_count": 8,
     "metadata": {},
     "output_type": "execute_result"
    }
   ],
   "source": [
    "import graphviz\n",
    "from sklearn import tree\n",
    "tree_data = tree.export_graphviz(weak_cla)\n",
    "graph = graphviz.Source(tree_data)\n",
    "graph"
   ]
  },
  {
   "cell_type": "code",
   "execution_count": 9,
   "id": "867e5c32",
   "metadata": {},
   "outputs": [
    {
     "data": {
      "text/html": [
       "<style>#sk-container-id-1 {color: black;}#sk-container-id-1 pre{padding: 0;}#sk-container-id-1 div.sk-toggleable {background-color: white;}#sk-container-id-1 label.sk-toggleable__label {cursor: pointer;display: block;width: 100%;margin-bottom: 0;padding: 0.3em;box-sizing: border-box;text-align: center;}#sk-container-id-1 label.sk-toggleable__label-arrow:before {content: \"▸\";float: left;margin-right: 0.25em;color: #696969;}#sk-container-id-1 label.sk-toggleable__label-arrow:hover:before {color: black;}#sk-container-id-1 div.sk-estimator:hover label.sk-toggleable__label-arrow:before {color: black;}#sk-container-id-1 div.sk-toggleable__content {max-height: 0;max-width: 0;overflow: hidden;text-align: left;background-color: #f0f8ff;}#sk-container-id-1 div.sk-toggleable__content pre {margin: 0.2em;color: black;border-radius: 0.25em;background-color: #f0f8ff;}#sk-container-id-1 input.sk-toggleable__control:checked~div.sk-toggleable__content {max-height: 200px;max-width: 100%;overflow: auto;}#sk-container-id-1 input.sk-toggleable__control:checked~label.sk-toggleable__label-arrow:before {content: \"▾\";}#sk-container-id-1 div.sk-estimator input.sk-toggleable__control:checked~label.sk-toggleable__label {background-color: #d4ebff;}#sk-container-id-1 div.sk-label input.sk-toggleable__control:checked~label.sk-toggleable__label {background-color: #d4ebff;}#sk-container-id-1 input.sk-hidden--visually {border: 0;clip: rect(1px 1px 1px 1px);clip: rect(1px, 1px, 1px, 1px);height: 1px;margin: -1px;overflow: hidden;padding: 0;position: absolute;width: 1px;}#sk-container-id-1 div.sk-estimator {font-family: monospace;background-color: #f0f8ff;border: 1px dotted black;border-radius: 0.25em;box-sizing: border-box;margin-bottom: 0.5em;}#sk-container-id-1 div.sk-estimator:hover {background-color: #d4ebff;}#sk-container-id-1 div.sk-parallel-item::after {content: \"\";width: 100%;border-bottom: 1px solid gray;flex-grow: 1;}#sk-container-id-1 div.sk-label:hover label.sk-toggleable__label {background-color: #d4ebff;}#sk-container-id-1 div.sk-serial::before {content: \"\";position: absolute;border-left: 1px solid gray;box-sizing: border-box;top: 0;bottom: 0;left: 50%;z-index: 0;}#sk-container-id-1 div.sk-serial {display: flex;flex-direction: column;align-items: center;background-color: white;padding-right: 0.2em;padding-left: 0.2em;position: relative;}#sk-container-id-1 div.sk-item {position: relative;z-index: 1;}#sk-container-id-1 div.sk-parallel {display: flex;align-items: stretch;justify-content: center;background-color: white;position: relative;}#sk-container-id-1 div.sk-item::before, #sk-container-id-1 div.sk-parallel-item::before {content: \"\";position: absolute;border-left: 1px solid gray;box-sizing: border-box;top: 0;bottom: 0;left: 50%;z-index: -1;}#sk-container-id-1 div.sk-parallel-item {display: flex;flex-direction: column;z-index: 1;position: relative;background-color: white;}#sk-container-id-1 div.sk-parallel-item:first-child::after {align-self: flex-end;width: 50%;}#sk-container-id-1 div.sk-parallel-item:last-child::after {align-self: flex-start;width: 50%;}#sk-container-id-1 div.sk-parallel-item:only-child::after {width: 0;}#sk-container-id-1 div.sk-dashed-wrapped {border: 1px dashed gray;margin: 0 0.4em 0.5em 0.4em;box-sizing: border-box;padding-bottom: 0.4em;background-color: white;}#sk-container-id-1 div.sk-label label {font-family: monospace;font-weight: bold;display: inline-block;line-height: 1.2em;}#sk-container-id-1 div.sk-label-container {text-align: center;}#sk-container-id-1 div.sk-container {/* jupyter's `normalize.less` sets `[hidden] { display: none; }` but bootstrap.min.css set `[hidden] { display: none !important; }` so we also need the `!important` here to be able to override the default hidden behavior on the sphinx rendered scikit-learn.org. See: https://github.com/scikit-learn/scikit-learn/issues/21755 */display: inline-block !important;position: relative;}#sk-container-id-1 div.sk-text-repr-fallback {display: none;}</style><div id=\"sk-container-id-1\" class=\"sk-top-container\"><div class=\"sk-text-repr-fallback\"><pre>DecisionTreeClassifier(criterion=&#x27;entropy&#x27;, max_depth=1)</pre><b>In a Jupyter environment, please rerun this cell to show the HTML representation or trust the notebook. <br />On GitHub, the HTML representation is unable to render, please try loading this page with nbviewer.org.</b></div><div class=\"sk-container\" hidden><div class=\"sk-item\"><div class=\"sk-estimator sk-toggleable\"><input class=\"sk-toggleable__control sk-hidden--visually\" id=\"sk-estimator-id-1\" type=\"checkbox\" checked><label for=\"sk-estimator-id-1\" class=\"sk-toggleable__label sk-toggleable__label-arrow\">DecisionTreeClassifier</label><div class=\"sk-toggleable__content\"><pre>DecisionTreeClassifier(criterion=&#x27;entropy&#x27;, max_depth=1)</pre></div></div></div></div></div>"
      ],
      "text/plain": [
       "DecisionTreeClassifier(criterion='entropy', max_depth=1)"
      ]
     },
     "execution_count": 9,
     "metadata": {},
     "output_type": "execute_result"
    }
   ],
   "source": [
    "weak_cla.fit(x_train, y_train)"
   ]
  },
  {
   "cell_type": "code",
   "execution_count": 10,
   "id": "9ff7b9c0",
   "metadata": {},
   "outputs": [
    {
     "data": {
      "text/plain": [
       "array([0., 1., 1., 0., 1., 0., 1., 1., 0., 1., 0., 1., 0., 1., 1., 0., 1.,\n",
       "       1., 0., 0., 0., 1., 1., 0., 1., 0., 1., 1., 0., 1., 1., 0., 1., 0.,\n",
       "       1., 0., 1., 0., 1., 1., 0., 1., 0., 0., 1., 0., 0., 0., 1., 1., 0.,\n",
       "       0., 1., 0., 1., 0., 0., 1., 0., 1., 0., 0., 1., 1., 1., 0., 1., 0.,\n",
       "       1., 1., 1., 1., 1., 0., 1., 1., 0., 1., 0., 1.])"
      ]
     },
     "execution_count": 10,
     "metadata": {},
     "output_type": "execute_result"
    }
   ],
   "source": [
    "p = weak_cla.predict(x_train)\n",
    "p"
   ]
  },
  {
   "cell_type": "code",
   "execution_count": 11,
   "id": "2c341bb6",
   "metadata": {},
   "outputs": [
    {
     "data": {
      "text/plain": [
       "0.9"
      ]
     },
     "execution_count": 11,
     "metadata": {},
     "output_type": "execute_result"
    }
   ],
   "source": [
    "score = weak_cla.score(x_test, y_test)\n",
    "score"
   ]
  },
  {
   "cell_type": "code",
   "execution_count": 12,
   "id": "861f4767",
   "metadata": {},
   "outputs": [
    {
     "data": {
      "text/plain": [
       "(100, 3)"
      ]
     },
     "execution_count": 12,
     "metadata": {},
     "output_type": "execute_result"
    }
   ],
   "source": [
    "data.shape"
   ]
  },
  {
   "cell_type": "code",
   "execution_count": 13,
   "id": "7b7663ee",
   "metadata": {},
   "outputs": [
    {
     "data": {
      "text/plain": [
       "array([1., 1., 1., 1., 1., 1., 1., 1., 1., 1., 1., 1.])"
      ]
     },
     "execution_count": 13,
     "metadata": {},
     "output_type": "execute_result"
    }
   ],
   "source": [
    "np.ones(12)"
   ]
  },
  {
   "cell_type": "code",
   "execution_count": 14,
   "id": "e4ad202e",
   "metadata": {},
   "outputs": [
    {
     "data": {
      "text/plain": [
       "array([[1, 2],\n",
       "       [2, 4]])"
      ]
     },
     "execution_count": 14,
     "metadata": {},
     "output_type": "execute_result"
    }
   ],
   "source": [
    "np.array([[1],[2]])*np.array([1,2])"
   ]
  },
  {
   "cell_type": "markdown",
   "id": "bbb7bcf4",
   "metadata": {},
   "source": [
    "# 上面是我们的单个分类器的下效果：我们下面就是我们的集成学习的adaboost："
   ]
  },
  {
   "cell_type": "code",
   "execution_count": 15,
   "id": "b281cd8a",
   "metadata": {},
   "outputs": [],
   "source": [
    "class Adaboost: # 没有继承！！！不用加任何括号！！！别和神经网络搞混了！！！\n",
    "    def __init__(self, num_cls = 5): # 我们下面就是我们的构造方法！！！我们的弱分类器的个数我们的初始化默认设为100\n",
    "        self.num_cls = num_cls\n",
    "    \n",
    "    def init_arg(self, x, y): # 下面就是我们的构造我们的参数的过程！！！\n",
    "        # 我们把我们的x和y传进我们的这个类里面：\n",
    "        self.x = x\n",
    "        self.y = y\n",
    "        \n",
    "        # 首先是我们的初始化我们的参数：首先是对于我们的每个样本的权重参数！！1\n",
    "        # 我们的每个参数设置成一样的就行了！！！！我们的参数是一个由样本个数为长度的一个向量！！！\n",
    "        self.weight = np.ones(x.shape[0])/x.shape[0]\n",
    "        \n",
    "        # 下面就是我们的装弱分类器单体的列表：\n",
    "        self.clfs = []\n",
    "        # 下面就是我们的每个分类的权重矩阵\n",
    "        self.alphas = []\n",
    "    \n",
    "    \n",
    "    # 下面就是我们的训练的过程：\n",
    "    def fit(self, x, y):\n",
    "        # 首先我们先初始化我们的参数：\n",
    "        self.init_arg(x, y)\n",
    "        \n",
    "        # 下面就是我们的遍历我们的全部所有分类器的过程：【我们已经设置好了我们的分类器就是100个！！！】\n",
    "        # 我们倒是乘权重再累加的项数就是一百项！！！\n",
    "        # 我们到时候的各个分类器权重就是有100个！！！【和书上的“误差小于某个值就停止不一样！！！”】\n",
    "        # 【所以】我们下面以生成的弱分类器的个数来停止我们的循环，训练过程中，我们不做权重与弱分类器对应相乘再求和，\n",
    "        # 再来求误差的操作！！！\n",
    "        for m in range(self.num_cls):\n",
    "            \n",
    "            # 首先是构造我们的弱分类器：\n",
    "            clf = DecisionTreeClassifier(max_depth=1)\n",
    "            \n",
    "            # 然后：我们拿我们的弱分类器去训练我们的数据；\n",
    "            # 【注意！！！】下面加个sample_weight = self.weight就是可以体现我们的分类器更加\n",
    "            # 对于我们的分错的数据更加专注【真的把各个数据的权重读进去了！！！】\n",
    "            # 书上的例子体现的不明显！！！直接选的分类器，但是我们复现的时候要体现！！！\n",
    "            # 【我们下次生成的弱分类器就【自然去】会有限去处理我们的权重高（上次分错类）的数据！！！】\n",
    "            clf.fit(x, y, sample_weight= self.weight)\n",
    "            \n",
    "            # 下面我们就是要得到我们的当前（参考了我们的各个样本的本次循环时的权重）\n",
    "            # 生成的弱分类器的学习误差率：【这个学习误差率可以算出我们的权重】\n",
    "            # 我们现在先要预测出我们的x数据：\n",
    "            p = clf.predict(x) \n",
    "            # 我们现在的【p和y都是一样长度的【列】向量了】！！！因为我们的x每个样本是按照列来排序的！！！\n",
    "            # 下面我们就可以得到我们的分类误差率了【直接矩阵相乘！！！】\n",
    "            em = np.dot(self.weight, (p!=y))\n",
    "            \n",
    "            \n",
    "            # 下面我们就可以将我们的【对应分类器的权重】alpha求出来了【我们的alphas列表是一个M（这里是num_cls）维的行向量】\n",
    "            # 我们的alpha是一个数！！！我们每生成一个弱分类器就算一次！！！\n",
    "            # 我们的weight视频一个向量！！！！我们每次算完一个新的弱分类器就更新一次\n",
    "            alpha = 1/2*np.log((1-em)/em)\n",
    "            \n",
    "            \n",
    "            # 下面我们就可以更新我们的权重了：\n",
    "            # 首先是规范化因子（用于归一化）【使得我们的每个分类器的权重矩阵的和都为1！！！】\n",
    "            # 【注意！！！】我们的alpha这时候是一个常数！！！\n",
    "            # 我们的这里的这个y乘p是对应元素对应相乘！！！\n",
    "            Z_m = sum(self.weight * np.exp(-alpha * y *p))\n",
    "            self.weight = self.weight * np.exp(-alpha * y *p)/Z_m\n",
    "            \n",
    "            \n",
    "            # 下面就是将我们算出来的各个分类器的权重和各个分类器记载在两个列表中就行了：\n",
    "            self.alphas.append(alpha)\n",
    "            self.clfs.append(clf)\n",
    "            \n",
    "        return 'DONE' # 我们已经生成完num_clf个弱分类器了，也找到num_clf个权重\n",
    "    \n",
    "    # 下面就是我们的总模型预测我们的标签的过程：\n",
    "    def predict(self, x):\n",
    "        # 就是我们拿一部分训练集样本出来：我们要可以做出预测\n",
    "        len1 = x.shape[0]\n",
    "        \n",
    "        # 接下来就是初始化我们的对这len1个数据的分别的预测的数组\n",
    "        pre_f_sum_x = np.zeros(len1)\n",
    "        \n",
    "        # 【注意！！！】我们的adaboost的弱分类器本质上是在训练数据上通过优势结合：\n",
    "        # 【从而】达到完美的划分效果！！！所以输入给我们adaboost的训练数据一定是多条的！！！【也没什么并行计算！！！】\n",
    "        # 【所以注意！！！】我们这里可以是只输入进来一个x数据，更可以是输入进来【好几条数据】\n",
    "        # 【最终奥义！！！】我们是将多个弱分类器化为了一个大的分类器！！！我们可以当作一个分类器来看！！！\n",
    "        # 当作一个大的分类器就和最开始的初始化一个分类器的看的方法是一样的了！！！\n",
    "        # 我们这个这个弱分类器是决策树！！！我们总的分类器就可以当作一个大的决策树！！！\n",
    "        # 本来就是对多条数据来划分的！！！（不是回归。。。） \n",
    "        # 当然：我们这个决策树已经训练好了，一条数据也可以找到分到的类\n",
    "        # 下面我们开始做加和：\n",
    "        for alpha,clf in zip(self.alphas, self.clfs):\n",
    "            pre_f_sum_x  += alpha * clf.predict(x)\n",
    "        \n",
    "        # 返回值别忘了\n",
    "        return np.sign(pre_f_sum_x)\n",
    "        \n",
    "    # 下面就是找到我们的得分！！！\n",
    "    def score(self, xtest, ytest):\n",
    "        pre = self.predict(xtest) # 注意！！！我们的这个pre数组和我们的ytest是同一个形状的！！！\n",
    "        sum_right = sum(pre == ytest)\n",
    "        return sum_right/(xtest.shape[0]) # 我们这样就找到了我们的正确率！！！【在测试集中】\n",
    "    \n",
    "    def different_weights(self):\n",
    "        # 我们还可以返回我们的权重：\n",
    "        return self.weight,self.alphas,self.clfs"
   ]
  },
  {
   "cell_type": "code",
   "execution_count": 16,
   "id": "fad8b14d",
   "metadata": {},
   "outputs": [
    {
     "data": {
      "text/plain": [
       "20"
      ]
     },
     "execution_count": 16,
     "metadata": {},
     "output_type": "execute_result"
    }
   ],
   "source": [
    "len(x_test)"
   ]
  },
  {
   "cell_type": "code",
   "execution_count": 17,
   "id": "4e3048cb",
   "metadata": {},
   "outputs": [
    {
     "data": {
      "text/plain": [
       "'DONE'"
      ]
     },
     "execution_count": 17,
     "metadata": {},
     "output_type": "execute_result"
    }
   ],
   "source": [
    "adaboost1 = Adaboost(num_cls=100)\n",
    "adaboost1.fit(x_train,y_train)"
   ]
  },
  {
   "cell_type": "code",
   "execution_count": 18,
   "id": "d121e9d2",
   "metadata": {},
   "outputs": [
    {
     "data": {
      "text/plain": [
       "array([0., 0., 1., 1., 0., 0., 1., 0., 1., 0., 1., 0., 0., 0., 0., 0., 0.,\n",
       "       1., 0., 1.])"
      ]
     },
     "execution_count": 18,
     "metadata": {},
     "output_type": "execute_result"
    }
   ],
   "source": [
    "adaboost1.predict(x_test)"
   ]
  },
  {
   "cell_type": "code",
   "execution_count": 19,
   "id": "f3d43a05",
   "metadata": {},
   "outputs": [
    {
     "data": {
      "text/plain": [
       "20"
      ]
     },
     "execution_count": 19,
     "metadata": {},
     "output_type": "execute_result"
    }
   ],
   "source": [
    "len(adaboost1.predict(x_test))"
   ]
  },
  {
   "cell_type": "code",
   "execution_count": 20,
   "id": "ad3ab970",
   "metadata": {},
   "outputs": [
    {
     "data": {
      "text/plain": [
       "1.0"
      ]
     },
     "execution_count": 20,
     "metadata": {},
     "output_type": "execute_result"
    }
   ],
   "source": [
    "，"
   ]
  },
  {
   "cell_type": "code",
   "execution_count": 21,
   "id": "425fa5c7",
   "metadata": {
    "scrolled": true
   },
   "outputs": [
    {
     "data": {
      "text/plain": [
       "(array([2.54617786e-02, 2.54617786e-02, 1.17360235e-04, 3.01040404e-03,\n",
       "        3.48628851e-03, 2.54617786e-02, 2.54617786e-02, 2.84438241e-04,\n",
       "        2.54617786e-02, 2.54617786e-02, 2.54617786e-02, 2.84438241e-04,\n",
       "        2.54617786e-02, 3.36297807e-05, 3.48628851e-03, 2.54617786e-02,\n",
       "        4.12191826e-04, 3.36297807e-05, 2.54617786e-02, 2.54617786e-02,\n",
       "        2.54617786e-02, 2.54617786e-02, 1.17360235e-04, 2.54617786e-02,\n",
       "        2.54617786e-02, 2.54617786e-02, 4.12191826e-04, 2.84438241e-04,\n",
       "        2.54617786e-02, 4.12191826e-04, 3.36297807e-05, 2.54617786e-02,\n",
       "        2.84438241e-04, 3.01040404e-03, 2.84438241e-04, 2.54617786e-02,\n",
       "        3.36297807e-05, 2.54617786e-02, 4.12191826e-04, 2.84438241e-04,\n",
       "        2.54617786e-02, 2.84438241e-04, 2.54617786e-02, 2.54617786e-02,\n",
       "        2.84438241e-04, 2.54617786e-02, 2.54617786e-02, 2.54617786e-02,\n",
       "        1.17360235e-04, 1.17360235e-04, 2.54617786e-02, 3.01040404e-03,\n",
       "        2.84438241e-04, 2.54617786e-02, 1.43845510e-03, 2.54617786e-02,\n",
       "        2.54617786e-02, 1.17360235e-04, 2.54617786e-02, 3.48628851e-03,\n",
       "        2.54617786e-02, 2.54617786e-02, 4.12191826e-04, 2.84438241e-04,\n",
       "        4.12191826e-04, 2.54617786e-02, 3.36297807e-05, 2.54617786e-02,\n",
       "        3.36297807e-05, 3.36297807e-05, 2.84438241e-04, 3.36297807e-05,\n",
       "        1.07180769e-03, 2.54617786e-02, 4.12191826e-04, 1.07180769e-03,\n",
       "        2.54617786e-02, 1.43845510e-03, 2.54617786e-02, 1.07180769e-03]),\n",
       " [1.032727649852548,\n",
       "  0.8852680177028326,\n",
       "  1.0670288947725524,\n",
       "  0.9556130927796008,\n",
       "  1.2498361285013302,\n",
       "  1.4390479389314739,\n",
       "  1.3945669442069333,\n",
       "  1.3945669442069335,\n",
       "  1.3945669442069337,\n",
       "  1.394566944206934,\n",
       "  1.394566944206934,\n",
       "  1.394566944206934,\n",
       "  1.394566944206934,\n",
       "  1.394566944206934,\n",
       "  1.394566944206934,\n",
       "  1.394566944206934,\n",
       "  1.394566944206934,\n",
       "  1.394566944206934,\n",
       "  1.394566944206934,\n",
       "  1.394566944206934,\n",
       "  1.394566944206934,\n",
       "  1.394566944206934,\n",
       "  1.394566944206934,\n",
       "  1.394566944206934,\n",
       "  1.394566944206934,\n",
       "  1.394566944206934,\n",
       "  1.394566944206934,\n",
       "  1.394566944206934,\n",
       "  1.394566944206934,\n",
       "  1.394566944206934,\n",
       "  1.394566944206934,\n",
       "  1.394566944206934,\n",
       "  1.394566944206934,\n",
       "  1.394566944206934,\n",
       "  1.394566944206934,\n",
       "  1.394566944206934,\n",
       "  1.394566944206934,\n",
       "  1.394566944206934,\n",
       "  1.394566944206934,\n",
       "  1.394566944206934,\n",
       "  1.394566944206934,\n",
       "  1.394566944206934,\n",
       "  1.394566944206934,\n",
       "  1.394566944206934,\n",
       "  1.394566944206934,\n",
       "  1.394566944206934,\n",
       "  1.394566944206934,\n",
       "  1.394566944206934,\n",
       "  1.394566944206934,\n",
       "  1.394566944206934,\n",
       "  1.394566944206934,\n",
       "  1.394566944206934,\n",
       "  1.394566944206934,\n",
       "  1.394566944206934,\n",
       "  1.394566944206934,\n",
       "  1.394566944206934,\n",
       "  1.394566944206934,\n",
       "  1.394566944206934,\n",
       "  1.394566944206934,\n",
       "  1.394566944206934,\n",
       "  1.394566944206934,\n",
       "  1.394566944206934,\n",
       "  1.394566944206934,\n",
       "  1.394566944206934,\n",
       "  1.394566944206934,\n",
       "  1.394566944206934,\n",
       "  1.394566944206934,\n",
       "  1.394566944206934,\n",
       "  1.394566944206934,\n",
       "  1.394566944206934,\n",
       "  1.394566944206934,\n",
       "  1.394566944206934,\n",
       "  1.394566944206934,\n",
       "  1.394566944206934,\n",
       "  1.394566944206934,\n",
       "  1.394566944206934,\n",
       "  1.394566944206934,\n",
       "  1.394566944206934,\n",
       "  1.394566944206934,\n",
       "  1.394566944206934,\n",
       "  1.394566944206934,\n",
       "  1.394566944206934,\n",
       "  1.394566944206934,\n",
       "  1.394566944206934,\n",
       "  1.394566944206934,\n",
       "  1.394566944206934,\n",
       "  1.394566944206934,\n",
       "  1.394566944206934,\n",
       "  1.394566944206934,\n",
       "  1.394566944206934,\n",
       "  1.394566944206934,\n",
       "  1.394566944206934,\n",
       "  1.394566944206934,\n",
       "  1.394566944206934,\n",
       "  1.394566944206934,\n",
       "  1.394566944206934,\n",
       "  1.394566944206934,\n",
       "  1.394566944206934,\n",
       "  1.394566944206934,\n",
       "  1.394566944206934],\n",
       " [DecisionTreeClassifier(max_depth=1),\n",
       "  DecisionTreeClassifier(max_depth=1),\n",
       "  DecisionTreeClassifier(max_depth=1),\n",
       "  DecisionTreeClassifier(max_depth=1),\n",
       "  DecisionTreeClassifier(max_depth=1),\n",
       "  DecisionTreeClassifier(max_depth=1),\n",
       "  DecisionTreeClassifier(max_depth=1),\n",
       "  DecisionTreeClassifier(max_depth=1),\n",
       "  DecisionTreeClassifier(max_depth=1),\n",
       "  DecisionTreeClassifier(max_depth=1),\n",
       "  DecisionTreeClassifier(max_depth=1),\n",
       "  DecisionTreeClassifier(max_depth=1),\n",
       "  DecisionTreeClassifier(max_depth=1),\n",
       "  DecisionTreeClassifier(max_depth=1),\n",
       "  DecisionTreeClassifier(max_depth=1),\n",
       "  DecisionTreeClassifier(max_depth=1),\n",
       "  DecisionTreeClassifier(max_depth=1),\n",
       "  DecisionTreeClassifier(max_depth=1),\n",
       "  DecisionTreeClassifier(max_depth=1),\n",
       "  DecisionTreeClassifier(max_depth=1),\n",
       "  DecisionTreeClassifier(max_depth=1),\n",
       "  DecisionTreeClassifier(max_depth=1),\n",
       "  DecisionTreeClassifier(max_depth=1),\n",
       "  DecisionTreeClassifier(max_depth=1),\n",
       "  DecisionTreeClassifier(max_depth=1),\n",
       "  DecisionTreeClassifier(max_depth=1),\n",
       "  DecisionTreeClassifier(max_depth=1),\n",
       "  DecisionTreeClassifier(max_depth=1),\n",
       "  DecisionTreeClassifier(max_depth=1),\n",
       "  DecisionTreeClassifier(max_depth=1),\n",
       "  DecisionTreeClassifier(max_depth=1),\n",
       "  DecisionTreeClassifier(max_depth=1),\n",
       "  DecisionTreeClassifier(max_depth=1),\n",
       "  DecisionTreeClassifier(max_depth=1),\n",
       "  DecisionTreeClassifier(max_depth=1),\n",
       "  DecisionTreeClassifier(max_depth=1),\n",
       "  DecisionTreeClassifier(max_depth=1),\n",
       "  DecisionTreeClassifier(max_depth=1),\n",
       "  DecisionTreeClassifier(max_depth=1),\n",
       "  DecisionTreeClassifier(max_depth=1),\n",
       "  DecisionTreeClassifier(max_depth=1),\n",
       "  DecisionTreeClassifier(max_depth=1),\n",
       "  DecisionTreeClassifier(max_depth=1),\n",
       "  DecisionTreeClassifier(max_depth=1),\n",
       "  DecisionTreeClassifier(max_depth=1),\n",
       "  DecisionTreeClassifier(max_depth=1),\n",
       "  DecisionTreeClassifier(max_depth=1),\n",
       "  DecisionTreeClassifier(max_depth=1),\n",
       "  DecisionTreeClassifier(max_depth=1),\n",
       "  DecisionTreeClassifier(max_depth=1),\n",
       "  DecisionTreeClassifier(max_depth=1),\n",
       "  DecisionTreeClassifier(max_depth=1),\n",
       "  DecisionTreeClassifier(max_depth=1),\n",
       "  DecisionTreeClassifier(max_depth=1),\n",
       "  DecisionTreeClassifier(max_depth=1),\n",
       "  DecisionTreeClassifier(max_depth=1),\n",
       "  DecisionTreeClassifier(max_depth=1),\n",
       "  DecisionTreeClassifier(max_depth=1),\n",
       "  DecisionTreeClassifier(max_depth=1),\n",
       "  DecisionTreeClassifier(max_depth=1),\n",
       "  DecisionTreeClassifier(max_depth=1),\n",
       "  DecisionTreeClassifier(max_depth=1),\n",
       "  DecisionTreeClassifier(max_depth=1),\n",
       "  DecisionTreeClassifier(max_depth=1),\n",
       "  DecisionTreeClassifier(max_depth=1),\n",
       "  DecisionTreeClassifier(max_depth=1),\n",
       "  DecisionTreeClassifier(max_depth=1),\n",
       "  DecisionTreeClassifier(max_depth=1),\n",
       "  DecisionTreeClassifier(max_depth=1),\n",
       "  DecisionTreeClassifier(max_depth=1),\n",
       "  DecisionTreeClassifier(max_depth=1),\n",
       "  DecisionTreeClassifier(max_depth=1),\n",
       "  DecisionTreeClassifier(max_depth=1),\n",
       "  DecisionTreeClassifier(max_depth=1),\n",
       "  DecisionTreeClassifier(max_depth=1),\n",
       "  DecisionTreeClassifier(max_depth=1),\n",
       "  DecisionTreeClassifier(max_depth=1),\n",
       "  DecisionTreeClassifier(max_depth=1),\n",
       "  DecisionTreeClassifier(max_depth=1),\n",
       "  DecisionTreeClassifier(max_depth=1),\n",
       "  DecisionTreeClassifier(max_depth=1),\n",
       "  DecisionTreeClassifier(max_depth=1),\n",
       "  DecisionTreeClassifier(max_depth=1),\n",
       "  DecisionTreeClassifier(max_depth=1),\n",
       "  DecisionTreeClassifier(max_depth=1),\n",
       "  DecisionTreeClassifier(max_depth=1),\n",
       "  DecisionTreeClassifier(max_depth=1),\n",
       "  DecisionTreeClassifier(max_depth=1),\n",
       "  DecisionTreeClassifier(max_depth=1),\n",
       "  DecisionTreeClassifier(max_depth=1),\n",
       "  DecisionTreeClassifier(max_depth=1),\n",
       "  DecisionTreeClassifier(max_depth=1),\n",
       "  DecisionTreeClassifier(max_depth=1),\n",
       "  DecisionTreeClassifier(max_depth=1),\n",
       "  DecisionTreeClassifier(max_depth=1),\n",
       "  DecisionTreeClassifier(max_depth=1),\n",
       "  DecisionTreeClassifier(max_depth=1),\n",
       "  DecisionTreeClassifier(max_depth=1),\n",
       "  DecisionTreeClassifier(max_depth=1),\n",
       "  DecisionTreeClassifier(max_depth=1)])"
      ]
     },
     "execution_count": 21,
     "metadata": {},
     "output_type": "execute_result"
    }
   ],
   "source": [
    "adaboost1.different_weights()"
   ]
  },
  {
   "cell_type": "markdown",
   "id": "bfd61e93",
   "metadata": {},
   "source": [
    "# sklearn.ensemble.AdaBoostClassifier\n",
    "\n",
    "- algorithm：这个参数只有AdaBoostClassifier有。主要原因是scikit-learn实现了两种Adaboost分类算法，SAMME和SAMME.R。两者的主要区别是弱学习器权重的度量，SAMME使用了和我们的原理篇里二元分类Adaboost算法的扩展，即用对样本集分类效果作为弱学习器权重，而SAMME.R使用了对样本集分类的预测概率大小来作为弱学习器权重。由于SAMME.R使用了概率度量的连续值，迭代一般比SAMME快，因此AdaBoostClassifier的默认算法algorithm的值也是SAMME.R。我们一般使用默认的SAMME.R就够了，但是要注意的是使用了SAMME.R， 则弱分类学习器参数base_estimator必须限制使用支持概率预测的分类器。SAMME算法则没有这个限制。\n",
    "\n",
    "- n_estimators： AdaBoostClassifier和AdaBoostRegressor都有，就是我们的弱学习器的最大迭代次数，或者说最大的弱学习器的个数。一般来说n_estimators太小，容易欠拟合，n_estimators太大，又容易过拟合，一般选择一个适中的数值。默认是50。在实际调参的过程中，我们常常将n_estimators和下面介绍的参数learning_rate一起考虑。\n",
    "\n",
    "-  learning_rate:  AdaBoostClassifier和AdaBoostRegressor都有，即每个弱学习器的权重缩减系数ν\n",
    "\n",
    "- base_estimator：AdaBoostClassifier和AdaBoostRegressor都有，即我们的弱分类学习器或者弱回归学习器。理论上可以选择任何一个分类或者回归学习器，不过需要支持样本权重。我们常用的一般是CART决策树或者神经网络MLP。"
   ]
  },
  {
   "cell_type": "code",
   "execution_count": 22,
   "id": "53d50ed3",
   "metadata": {},
   "outputs": [
    {
     "data": {
      "text/html": [
       "<style>#sk-container-id-2 {color: black;}#sk-container-id-2 pre{padding: 0;}#sk-container-id-2 div.sk-toggleable {background-color: white;}#sk-container-id-2 label.sk-toggleable__label {cursor: pointer;display: block;width: 100%;margin-bottom: 0;padding: 0.3em;box-sizing: border-box;text-align: center;}#sk-container-id-2 label.sk-toggleable__label-arrow:before {content: \"▸\";float: left;margin-right: 0.25em;color: #696969;}#sk-container-id-2 label.sk-toggleable__label-arrow:hover:before {color: black;}#sk-container-id-2 div.sk-estimator:hover label.sk-toggleable__label-arrow:before {color: black;}#sk-container-id-2 div.sk-toggleable__content {max-height: 0;max-width: 0;overflow: hidden;text-align: left;background-color: #f0f8ff;}#sk-container-id-2 div.sk-toggleable__content pre {margin: 0.2em;color: black;border-radius: 0.25em;background-color: #f0f8ff;}#sk-container-id-2 input.sk-toggleable__control:checked~div.sk-toggleable__content {max-height: 200px;max-width: 100%;overflow: auto;}#sk-container-id-2 input.sk-toggleable__control:checked~label.sk-toggleable__label-arrow:before {content: \"▾\";}#sk-container-id-2 div.sk-estimator input.sk-toggleable__control:checked~label.sk-toggleable__label {background-color: #d4ebff;}#sk-container-id-2 div.sk-label input.sk-toggleable__control:checked~label.sk-toggleable__label {background-color: #d4ebff;}#sk-container-id-2 input.sk-hidden--visually {border: 0;clip: rect(1px 1px 1px 1px);clip: rect(1px, 1px, 1px, 1px);height: 1px;margin: -1px;overflow: hidden;padding: 0;position: absolute;width: 1px;}#sk-container-id-2 div.sk-estimator {font-family: monospace;background-color: #f0f8ff;border: 1px dotted black;border-radius: 0.25em;box-sizing: border-box;margin-bottom: 0.5em;}#sk-container-id-2 div.sk-estimator:hover {background-color: #d4ebff;}#sk-container-id-2 div.sk-parallel-item::after {content: \"\";width: 100%;border-bottom: 1px solid gray;flex-grow: 1;}#sk-container-id-2 div.sk-label:hover label.sk-toggleable__label {background-color: #d4ebff;}#sk-container-id-2 div.sk-serial::before {content: \"\";position: absolute;border-left: 1px solid gray;box-sizing: border-box;top: 0;bottom: 0;left: 50%;z-index: 0;}#sk-container-id-2 div.sk-serial {display: flex;flex-direction: column;align-items: center;background-color: white;padding-right: 0.2em;padding-left: 0.2em;position: relative;}#sk-container-id-2 div.sk-item {position: relative;z-index: 1;}#sk-container-id-2 div.sk-parallel {display: flex;align-items: stretch;justify-content: center;background-color: white;position: relative;}#sk-container-id-2 div.sk-item::before, #sk-container-id-2 div.sk-parallel-item::before {content: \"\";position: absolute;border-left: 1px solid gray;box-sizing: border-box;top: 0;bottom: 0;left: 50%;z-index: -1;}#sk-container-id-2 div.sk-parallel-item {display: flex;flex-direction: column;z-index: 1;position: relative;background-color: white;}#sk-container-id-2 div.sk-parallel-item:first-child::after {align-self: flex-end;width: 50%;}#sk-container-id-2 div.sk-parallel-item:last-child::after {align-self: flex-start;width: 50%;}#sk-container-id-2 div.sk-parallel-item:only-child::after {width: 0;}#sk-container-id-2 div.sk-dashed-wrapped {border: 1px dashed gray;margin: 0 0.4em 0.5em 0.4em;box-sizing: border-box;padding-bottom: 0.4em;background-color: white;}#sk-container-id-2 div.sk-label label {font-family: monospace;font-weight: bold;display: inline-block;line-height: 1.2em;}#sk-container-id-2 div.sk-label-container {text-align: center;}#sk-container-id-2 div.sk-container {/* jupyter's `normalize.less` sets `[hidden] { display: none; }` but bootstrap.min.css set `[hidden] { display: none !important; }` so we also need the `!important` here to be able to override the default hidden behavior on the sphinx rendered scikit-learn.org. See: https://github.com/scikit-learn/scikit-learn/issues/21755 */display: inline-block !important;position: relative;}#sk-container-id-2 div.sk-text-repr-fallback {display: none;}</style><div id=\"sk-container-id-2\" class=\"sk-top-container\"><div class=\"sk-text-repr-fallback\"><pre>AdaBoostClassifier(learning_rate=0.5, n_estimators=100)</pre><b>In a Jupyter environment, please rerun this cell to show the HTML representation or trust the notebook. <br />On GitHub, the HTML representation is unable to render, please try loading this page with nbviewer.org.</b></div><div class=\"sk-container\" hidden><div class=\"sk-item\"><div class=\"sk-estimator sk-toggleable\"><input class=\"sk-toggleable__control sk-hidden--visually\" id=\"sk-estimator-id-2\" type=\"checkbox\" checked><label for=\"sk-estimator-id-2\" class=\"sk-toggleable__label sk-toggleable__label-arrow\">AdaBoostClassifier</label><div class=\"sk-toggleable__content\"><pre>AdaBoostClassifier(learning_rate=0.5, n_estimators=100)</pre></div></div></div></div></div>"
      ],
      "text/plain": [
       "AdaBoostClassifier(learning_rate=0.5, n_estimators=100)"
      ]
     },
     "execution_count": 22,
     "metadata": {},
     "output_type": "execute_result"
    }
   ],
   "source": [
    "from sklearn.ensemble import AdaBoostClassifier\n",
    "clf = AdaBoostClassifier(n_estimators=100, learning_rate=0.5)\n",
    "clf.fit(x_train, y_train)"
   ]
  },
  {
   "cell_type": "code",
   "execution_count": 23,
   "id": "2b9b9b64",
   "metadata": {},
   "outputs": [
    {
     "data": {
      "text/plain": [
       "1.0"
      ]
     },
     "execution_count": 23,
     "metadata": {},
     "output_type": "execute_result"
    }
   ],
   "source": [
    "clf.score(x_test, y_test)"
   ]
  }
 ],
 "metadata": {
  "kernelspec": {
   "display_name": "Python 3 (ipykernel)",
   "language": "python",
   "name": "python3"
  },
  "language_info": {
   "codemirror_mode": {
    "name": "ipython",
    "version": 3
   },
   "file_extension": ".py",
   "mimetype": "text/x-python",
   "name": "python",
   "nbconvert_exporter": "python",
   "pygments_lexer": "ipython3",
   "version": "3.11.5"
  }
 },
 "nbformat": 4,
 "nbformat_minor": 5
}
