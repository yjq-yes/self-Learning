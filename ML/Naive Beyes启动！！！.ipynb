{
 "cells": [
  {
   "cell_type": "code",
   "execution_count": 22,
   "id": "7d73b137",
   "metadata": {},
   "outputs": [],
   "source": [
    "import numpy as np\n",
    "import pandas as pd\n",
    "import matplotlib.pyplot as plt\n",
    "%matplotlib inline\n",
    "\n",
    "from sklearn.datasets import load_iris\n",
    "from sklearn.model_selection import train_test_split\n"
   ]
  },
  {
   "cell_type": "code",
   "execution_count": 23,
   "id": "6da7c2a8",
   "metadata": {},
   "outputs": [],
   "source": [
    "# 首先就是创建我们的数据\n",
    "# 采用里函数上的例子\n",
    "lambda_ = 1\n",
    "d = {\"S\":1, \"M\":2, \"L\":3}\n",
    "x = np.array([[1, d['S']], [1, d['M']], [1, d['M']],\n",
    "             [1, d['S']], [1, d['S']], [2, d['S']],\n",
    "             [2, d['M']], [2, d['M']], [2, d['L']],\n",
    "             [2, d['L']], [3, d['L']], [3, d['M']],\n",
    "             [3, d['M']], [3, d['L']], [3, d['L']]])\n",
    "\n",
    "y = np.array([-1, -1, 1, 1, -1, -1, -1, 1, 1, 1, 1, 1, 1, 1, -1])"
   ]
  },
  {
   "cell_type": "code",
   "execution_count": 24,
   "id": "7709257c",
   "metadata": {},
   "outputs": [
    {
     "data": {
      "text/plain": [
       "array([[1, 1],\n",
       "       [1, 2],\n",
       "       [1, 2],\n",
       "       [1, 1],\n",
       "       [1, 1],\n",
       "       [2, 1],\n",
       "       [2, 2],\n",
       "       [2, 2],\n",
       "       [2, 3],\n",
       "       [2, 3],\n",
       "       [3, 3],\n",
       "       [3, 2],\n",
       "       [3, 2],\n",
       "       [3, 3],\n",
       "       [3, 3]])"
      ]
     },
     "execution_count": 24,
     "metadata": {},
     "output_type": "execute_result"
    }
   ],
   "source": [
    "x"
   ]
  },
  {
   "cell_type": "code",
   "execution_count": 25,
   "id": "27d680b6",
   "metadata": {
    "scrolled": true
   },
   "outputs": [
    {
     "data": {
      "text/plain": [
       "array([-1, -1,  1,  1, -1, -1, -1,  1,  1,  1,  1,  1,  1,  1, -1])"
      ]
     },
     "execution_count": 25,
     "metadata": {},
     "output_type": "execute_result"
    }
   ],
   "source": [
    "y"
   ]
  },
  {
   "cell_type": "markdown",
   "id": "456347e2",
   "metadata": {},
   "source": [
    "$P_\\lambda(Y=1)=(9+\\lambda_)/(15 + 2*\\lambda_) = (9+0.2)/(15+2*0.2)=0.5974025974025974$\n",
    "$P_\\lambda(Y=-1)=(6+\\lambda_)/(15 + 2*\\lambda_) = (6+0.2)/(15+2*0.2)=0.40259740259740264$  \n",
    "$P(X^{(1)}=1|Y=1) = (2+0.2)/(9+3*0.2)=0.22916666666666669 $  \n",
    "$P(X^{(1)}=2|Y=1) = (3+0.2)/(9+3*0.2)=0.33333333333333337 $  \n",
    "$P(X^{(1)}=3|Y=1) = (4+0.2)/(9+3*0.2)=0.43750000000000006 $  \n",
    "$P(X^{(2)}=S|Y=1) = (1+0.2)/(9+3*0.2)=0.125 $   \n",
    "$P(X^{(2)}=M|Y=1) = (4+0.2)/(9+3*0.2)=0.43750000000000006 $     \n",
    "$P(X^{(2)}=L|Y=1) = (4+0.2)/(9+3*0.2)=0.43750000000000006 $  \n",
    "$P(X^{(1)}=1|Y=-1) = (3+0.2)/(6+3*0.2)=0.4848484848484849 $  \n",
    "$P(X^{(1)}=2|Y=-1) = (2+0.2)/(6+3*0.2)=0.33333333333333337 $   \n",
    "$P(X^{(1)}=3|Y=-1) = (1+0.2)/(6+3*0.2)=0.18181818181818182 $   \n",
    "$P(X^{(2)}=S|Y=-1) = (3+0.2)/(6+3*0.2)=0.4848484848484849 $  \n",
    "$P(X^{(2)}=M|Y=-1) = (2+0.2)/(6+3*0.2)=0.33333333333333337 $   \n",
    "$P(X^{(2)}=L|Y=-1) = (1+0.2)/(6+3*0.2)=0.18181818181818182 $   \n",
    "so  \n",
    "$P(Y=1)P(X^{(1)}=2|Y=1)P(X^{(2)}=S|Y=1) =0.5974025974025974* 0.33333333333333337*0.125=0.024891774891774892$  \n",
    "$P(Y=-1)P(X^{(1)}=2|Y=-1)P(X^{(2)}=S|Y=-1) =0.40259740259740264* 0.33333333333333337*0.4848484848484849=0.06506624688442873$  \n",
    "\n",
    "so, it should be -1."
   ]
  },
  {
   "cell_type": "code",
   "execution_count": 26,
   "id": "59d6de8f",
   "metadata": {},
   "outputs": [
    {
     "data": {
      "text/plain": [
       "array([[ 1,  1, -1],\n",
       "       [ 1,  2, -1],\n",
       "       [ 1,  2,  1],\n",
       "       [ 1,  1,  1],\n",
       "       [ 1,  1, -1],\n",
       "       [ 2,  1, -1],\n",
       "       [ 2,  2, -1],\n",
       "       [ 2,  2,  1],\n",
       "       [ 2,  3,  1],\n",
       "       [ 2,  3,  1],\n",
       "       [ 3,  3,  1],\n",
       "       [ 3,  2,  1],\n",
       "       [ 3,  2,  1],\n",
       "       [ 3,  3,  1],\n",
       "       [ 3,  3, -1]])"
      ]
     },
     "execution_count": 26,
     "metadata": {},
     "output_type": "execute_result"
    }
   ],
   "source": [
    "data = np.hstack((x,y.reshape(len(y),1)))\n",
    "data\n",
    "# 只有一个参数!！！！"
   ]
  },
  {
   "cell_type": "code",
   "execution_count": 42,
   "id": "002b6269",
   "metadata": {},
   "outputs": [],
   "source": [
    "class mynaivebeyes:\n",
    "    def __init__(self,lambda_ = 0.2):\n",
    "        self.lambda_ = lambda_\n",
    "    \n",
    "    def fit(self,x,y):\n",
    "        py = {}\n",
    "        # 首先我们先算我们的各个标签的对应的概率值\n",
    "        I_y = {}\n",
    "        for y_value in set(y):\n",
    "            I_y[y_value] = len(np.where(y == y_value)[0])\n",
    "            # 我靠牛逼演我是吧 返回值是一个元组里面夹一个np数组，还有一个括号里面是元素类型！！！！\n",
    "            py[y_value] = (I_y[y_value] + lambda_)/(len(y) + len(np.unique(y))*lambda_)\n",
    "        # 然后我们现在拿到我们的在标签等于不同值的情况下我们x在各个维度的分量等于不同特定值的概率\n",
    "#         Ixy_same_time = {}\n",
    "        py_then_x = {}\n",
    "#         data = np.vstack(x,y.reshape(len(y),1))\n",
    "        # 真拿捏了哥们 这不比参考文件的简单\n",
    "        for i in range(x.shape[1]):\n",
    "            for x_value in np.unique(x[:,i]):\n",
    "                x_idx = np.where(x[:,i] == x_value)\n",
    "                for y1 in set(y[x_idx]):\n",
    "                    py_then_x[\"x{}={}|y={}\".format(i+1,x_value,y1)] = (sum(y[x_idx]==y1) + lambda_)/ (I_y[y1] + len(np.unique(x[:,i])) * lambda_)\n",
    "        \n",
    "        self.py = py\n",
    "        self.py_then_x = py_then_x\n",
    "        self.I_y = I_y\n",
    "        return I_y,py_then_x,py\n",
    "    \n",
    "    def predict(self,x_to_test):\n",
    "        max_p = 0\n",
    "        p = 1\n",
    "        max_y = y[0]\n",
    "        p1 = {}\n",
    "        for y_value1 in set(y):\n",
    "            p1[y_value1] =1 \n",
    "            for i in range(x_to_test.shape[0]):\n",
    "                # 这个if语句就是防止我们有一个新值 要加新键 同时下面还要防止有出现0的情况\n",
    "                if \"x{}={}|y={}\".format(i+1,x_to_test[i],y_value1) not in py_then_x:\n",
    "                    py_then_x[\"x{}={}|y={}\".format(i+1,x_to_test[i],y_value1)] = lambda_/(I_y[y_value1]+len(np.unique(x[:,i]))*lambda_)\n",
    "                p1[y_value1] =p1[y_value1]* py_then_x[\"x{}={}|y={}\".format(i+1,x_to_test[i],y_value1)]\n",
    "        # 下面还要搞一个for循环  \n",
    "        for y_value2 in set(y):\n",
    "            p1[y_value2] = p1[y_value2] * py[y_value2]\n",
    "            if p1[y_value2] > max_p:\n",
    "                max_p = p1[y_value2]\n",
    "                max_y = y_value2\n",
    "        return max_y,max_p,p1,py_then_x"
   ]
  },
  {
   "cell_type": "code",
   "execution_count": 43,
   "id": "b94ad4c4",
   "metadata": {
    "scrolled": true
   },
   "outputs": [
    {
     "data": {
      "text/plain": [
       "(-1,\n",
       " 0.06506624688442872,\n",
       " {1: 0.024891774891774892, -1: 0.06506624688442872},\n",
       " {'x1=1|y=1': 0.22916666666666669,\n",
       "  'x1=1|y=-1': 0.4848484848484849,\n",
       "  'x1=2|y=1': 0.33333333333333337,\n",
       "  'x1=2|y=-1': 0.33333333333333337,\n",
       "  'x1=3|y=1': 0.43750000000000006,\n",
       "  'x1=3|y=-1': 0.18181818181818182,\n",
       "  'x2=1|y=1': 0.125,\n",
       "  'x2=1|y=-1': 0.4848484848484849,\n",
       "  'x2=2|y=1': 0.43750000000000006,\n",
       "  'x2=2|y=-1': 0.33333333333333337,\n",
       "  'x2=3|y=1': 0.43750000000000006,\n",
       "  'x2=3|y=-1': 0.18181818181818182,\n",
       "  'x2=0|y=1': 0.020833333333333336,\n",
       "  'x2=0|y=-1': 0.030303030303030307})"
      ]
     },
     "execution_count": 43,
     "metadata": {},
     "output_type": "execute_result"
    }
   ],
   "source": [
    "model =  mynaivebeyes(lambda_ = 0.20)\n",
    "model.fit(x,y)\n",
    "model.predict(np.array([2, 1]))"
   ]
  },
  {
   "cell_type": "code",
   "execution_count": 44,
   "id": "dfa0098f",
   "metadata": {},
   "outputs": [
    {
     "data": {
      "text/plain": [
       "(1,\n",
       " 0.004148629148629149,\n",
       " {1: 0.004148629148629149, -1: 0.004066640430276795},\n",
       " {'x1=1|y=1': 0.22916666666666669,\n",
       "  'x1=1|y=-1': 0.4848484848484849,\n",
       "  'x1=2|y=1': 0.33333333333333337,\n",
       "  'x1=2|y=-1': 0.33333333333333337,\n",
       "  'x1=3|y=1': 0.43750000000000006,\n",
       "  'x1=3|y=-1': 0.18181818181818182,\n",
       "  'x2=1|y=1': 0.125,\n",
       "  'x2=1|y=-1': 0.4848484848484849,\n",
       "  'x2=2|y=1': 0.43750000000000006,\n",
       "  'x2=2|y=-1': 0.33333333333333337,\n",
       "  'x2=3|y=1': 0.43750000000000006,\n",
       "  'x2=3|y=-1': 0.18181818181818182,\n",
       "  'x2=0|y=1': 0.020833333333333336,\n",
       "  'x2=0|y=-1': 0.030303030303030307})"
      ]
     },
     "execution_count": 44,
     "metadata": {},
     "output_type": "execute_result"
    }
   ],
   "source": [
    "model =  mynaivebeyes(lambda_ = 0.20)\n",
    "model.fit(x,y)\n",
    "model.predict(np.array([2, 0]))"
   ]
  }
 ],
 "metadata": {
  "kernelspec": {
   "display_name": "Python 3 (ipykernel)",
   "language": "python",
   "name": "python3"
  },
  "language_info": {
   "codemirror_mode": {
    "name": "ipython",
    "version": 3
   },
   "file_extension": ".py",
   "mimetype": "text/x-python",
   "name": "python",
   "nbconvert_exporter": "python",
   "pygments_lexer": "ipython3",
   "version": "3.11.5"
  }
 },
 "nbformat": 4,
 "nbformat_minor": 5
}
